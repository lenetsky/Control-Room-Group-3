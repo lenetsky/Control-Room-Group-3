{
 "cells": [
  {
   "cell_type": "markdown",
   "metadata": {
    "slideshow": {
     "slide_type": "slide"
    }
   },
   "source": [
    "# Transverse Emittance Measurements in MEBT\n",
    "\n",
    "----"
   ]
  },
  {
   "cell_type": "markdown",
   "metadata": {
    "slideshow": {
     "slide_type": "slide"
    }
   },
   "source": [
    "## 1. Perform a MEBT quad (you choose) field gradient scan measuring the RMS transverse beam size with one Wire Scanner"
   ]
  },
  {
   "cell_type": "markdown",
   "metadata": {
    "slideshow": {
     "slide_type": "subslide"
    }
   },
   "source": [
    "Scan `MEBT_Mag:QH01` field while measure RMS beam X size\n",
    "Fit the curve for emmitance estimation.\n",
    "\n",
    "Total transfer matrix of interest here is $R=SQ$, where $S$ denotes the known transfer matrix between quadrupole and the wire, and $Q$ is the transfer matrix of the quadrupole:\n",
    "$$\n",
    "Q = \n",
    "\\begin{pmatrix}\n",
    "1 & 0 \\\\\n",
    "K & 1\n",
    "\\end{pmatrix}\n",
    "$$\n",
    "\n",
    "Scan field strength $K$, measure beam size as a function of $K$.\n",
    "$$\n",
    "\\epsilon_x = \\frac{\\sqrt{AC}}{S_{12}^2}\n",
    "$$"
   ]
  },
  {
   "cell_type": "code",
   "execution_count": 6,
   "metadata": {
    "slideshow": {
     "slide_type": "skip"
    }
   },
   "outputs": [],
   "source": [
    "%matplotlib inline\n",
    "import numpy as np\n",
    "import matplotlib.pyplot as plt"
   ]
  },
  {
   "cell_type": "markdown",
   "metadata": {
    "slideshow": {
     "slide_type": "subslide"
    }
   },
   "source": [
    "Scaning with 30 steps, we found minimum RMS X beam size."
   ]
  },
  {
   "cell_type": "code",
   "execution_count": 65,
   "metadata": {
    "slideshow": {
     "slide_type": "slide"
    }
   },
   "outputs": [
    {
     "data": {
      "text/plain": [
       "Text(0, 0.5, 'X RMS Size')"
      ]
     },
     "execution_count": 65,
     "metadata": {},
     "output_type": "execute_result"
    },
    {
     "data": {
      "image/png": "[encoded data removed]",
      "text/plain": [
       "<Figure size 576x432 with 1 Axes>"
      ]
     },
     "metadata": {
      "needs_background": "light"
     },
     "output_type": "display_data"
    }
   ],
   "source": [
    "# Note wire scanners report in mm!\n",
    "dat = np.loadtxt('data.txt')\n",
    "x = dat[:,0]; y = dat[:,1]/1e3\n",
    "z = np.polyfit(x,y,2)\n",
    "p = np.poly1d(z)\n",
    "xp = np.linspace(-95, -72, 100)\n",
    "fig, ax = plt.subplots(figsize=(8,6))\n",
    "ax.plot(x, y,'+')\n",
    "ax.plot(xp, p(xp))\n",
    "ax.set_xlabel('K')\n",
    "ax.set_ylabel('X RMS Size')"
   ]
  },
  {
   "cell_type": "markdown",
   "metadata": {
    "slideshow": {
     "slide_type": "notes"
    }
   },
   "source": [
    "In simulation $M_{wqs}(1,2)$ also changes slightly."
   ]
  },
  {
   "cell_type": "code",
   "execution_count": 54,
   "metadata": {
    "slideshow": {
     "slide_type": "slide"
    }
   },
   "outputs": [
    {
     "data": {
      "text/plain": [
       "Text(0, 0.5, 'S12')"
      ]
     },
     "execution_count": 54,
     "metadata": {},
     "output_type": "execute_result"
    },
    {
     "data": {
      "image/png": "[encoded data removed]",
      "text/plain": [
       "<Figure size 576x432 with 1 Axes>"
      ]
     },
     "metadata": {
      "needs_background": "light"
     },
     "output_type": "display_data"
    }
   ],
   "source": [
    "fig, ax = plt.subplots(figsize=(8,6))\n",
    "ax.plot(x, dat[:,2],'+')\n",
    "ax.set_xlabel('K')\n",
    "ax.set_ylabel('S12')"
   ]
  },
  {
   "cell_type": "code",
   "execution_count": 79,
   "metadata": {
    "slideshow": {
     "slide_type": "slide"
    }
   },
   "outputs": [
    {
     "name": "stdout",
     "output_type": "stream",
     "text": [
      "A: 1.142e-09 B: -84.770 C: 1.427e-07 S12: 0.067\n"
     ]
    }
   ],
   "source": [
    "B = np.roots(z)[0].real\n",
    "C = p(B)\n",
    "A = z[0]\n",
    "s12 = dat[:,2].mean()\n",
    "print('A: {:.3e} B: {:.3f} C: {:.3e} S12: {:.3f}'.format(A,B,C,s12))"
   ]
  },
  {
   "cell_type": "markdown",
   "metadata": {
    "slideshow": {
     "slide_type": "slide"
    }
   },
   "source": [
    "## 2.a Emittance from RMS size vs. gradient curve"
   ]
  },
  {
   "cell_type": "code",
   "execution_count": 72,
   "metadata": {
    "slideshow": {
     "slide_type": "slide"
    }
   },
   "outputs": [
    {
     "name": "stdout",
     "output_type": "stream",
     "text": [
      "Emittance: 2.830e-06 [pi*m*rad]\n"
     ]
    }
   ],
   "source": [
    "emit = np.sqrt(A*C)/s12**2\n",
    "print('Emittance: {:.3e} [pi*m*rad]'.format(emit))"
   ]
  },
  {
   "cell_type": "markdown",
   "metadata": {},
   "source": [
    "$$\n",
    "\\bar\\epsilon_{RMS} = 2.839 \\,\\text{pi*mm*mrad}\n",
    "$$"
   ]
  },
  {
   "cell_type": "markdown",
   "metadata": {
    "slideshow": {
     "slide_type": "slide"
    }
   },
   "source": [
    "## 2.b Emittance from weighted LSQ\n",
    "\n",
    "$$\n",
    "\\bar\\epsilon_{RMS} = 2.9767 \\,\\text{pi*mm*mrad}\n",
    "$$"
   ]
  },
  {
   "cell_type": "markdown",
   "metadata": {
    "slideshow": {
     "slide_type": "slide"
    }
   },
   "source": [
    "## Transport matrix between quadrupole and wire scanner:\n",
    "\n",
    "* Response matrix from start to quadrupole $R_{q}$\n",
    "\n",
    "```python\n",
    "    state = traj.stateForElement(quad.getId())\n",
    "    quad_mtrx = state.getResponseMatrix()\n",
    "```\n",
    "\n",
    "* Response matrix from start to wire scanner $R_{w}$\n",
    "\n",
    "```python\n",
    "    state = traj.stateForElement(ws.getId())\n",
    "    ws_mtrx = state.getResponseMatrix()\n",
    "```\n",
    "\n",
    "* Transport matrix from quadrupole to wire scanner $M_{qw}$\n",
    "$$\n",
    "    M_{qw} R_q = R_w\\\\\n",
    "    M_{qw} =  R_w R_q^{-1}\n",
    "$$\n",
    "\n",
    "```python\n",
    "    mtrx_s7 = ws_mtrx.times(quad_mtrx.inverse())\n",
    "```\n",
    "\n",
    "  This is a $7\\times 7$ matrix, where we care about the $x, x'$ elements.\n",
    "  \n",
    "  $$\n",
    "  M_{wqx} = \n",
    "  \\begin{pmatrix}\n",
    "  M_{wq}(0,0) & M_{wq}(0,1) \\\\\n",
    "  M_{wq}(1,0) & M_{wq}(1,1)\n",
    "  \\end{pmatrix}\n",
    "  $$\n"
   ]
  },
  {
   "cell_type": "markdown",
   "metadata": {},
   "source": [
    "\n",
    "* Energy spread measurement from transport matrix $M_{wqx}$ by $n$ measurements: (ignore $\\delta$ due to no kickers/correctors)\n",
    "\n",
    "  $$\n",
    "    \\Sigma = M V\n",
    "  $$\n",
    "\n",
    "  $$ \n",
    "  \\begin{pmatrix}\n",
    "      \\langle x_1^2 \\rangle \\\\\n",
    "      \\vdots \\\\\n",
    "      \\langle x_n^2 \\rangle  \n",
    "  \\end{pmatrix} = \n",
    "  \\begin{pmatrix}\n",
    "      m_{00}^2[0] & 2m_{00}[0]m_{01}[0] & m_{02}^2[0] \\\\\n",
    "      \\vdots & \\vdots & \\vdots \\\\\n",
    "      m_{00}^2[n] & 2m_{00}m_{01}[n] & m_{02}^2[n]\n",
    "  \\end{pmatrix}\n",
    "  \\begin{pmatrix}\n",
    "      \\langle x_0^2 \\rangle \\\\\n",
    "      \\langle x_0{x'}_0 \\rangle \\\\\n",
    "      \\langle {x'}_0^2 \\rangle\n",
    "  \\end{pmatrix}\n",
    "  $$\n",
    "  \n",
    "  where $m_{ij}[n]$ is element from $M_{qws}$ at $n$ measurement, and $\\Sigma(n)=\\langle x_n^2 \\rangle$ can be measured by:\n",
    "  ```python\n",
    "  xRMS = state.twissParameters()[0].getEnvelopeRadius()\n",
    "  ```\n",
    "  \n",
    "* Solve to get $V$ using weighted least squares:\n",
    "\n",
    "$$\n",
    "V = (M^T W M)^{-1}M^T W \\Sigma\n",
    "$$\n",
    "\n",
    "  where the errors are defined by:\n",
    "  $$\n",
    "  E = (M^T W M)^{-1}\n",
    "  $$\n",
    "  \n",
    "## Emittance errors:\n",
    "$$\n",
    "\\epsilon_{RMS} = \\bar\\epsilon \\pm \\frac{1}{2}\\frac{\\sqrt{\\sigma_{\\epsilon_{RMS}^2}^2}}{\\bar\\epsilon}\n",
    "$$\n",
    "\n",
    "Result: 0.00553 pi*mm*mrad"
   ]
  },
  {
   "cell_type": "code",
   "execution_count": null,
   "metadata": {},
   "outputs": [],
   "source": []
  }
 ],
 "metadata": {
  "celltoolbar": "Slideshow",
  "kernelspec": {
   "display_name": "Python 3",
   "language": "python",
   "name": "python3"
  },
  "language_info": {
   "codemirror_mode": {
    "name": "ipython",
    "version": 3
   },
   "file_extension": ".py",
   "mimetype": "text/x-python",
   "name": "python",
   "nbconvert_exporter": "python",
   "pygments_lexer": "ipython3",
   "version": "3.7.3"
  }
 },
 "nbformat": 4,
 "nbformat_minor": 2
}
